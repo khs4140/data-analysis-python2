{
 "cells": [
  {
   "cell_type": "markdown",
   "id": "998f4db7",
   "metadata": {},
   "source": [
    "# 탐색적 데이터 분석의 과정"
   ]
  },
  {
   "cell_type": "markdown",
   "id": "90e5f258",
   "metadata": {},
   "source": [
    "## 데이터와의 첫만남"
   ]
  },
  {
   "cell_type": "markdown",
   "id": "a7a00871",
   "metadata": {},
   "source": [
    "    - 1. 데이터의 출처와 주제에 대해 이해\n",
    "        => 어디에서, 어떻게 생성된 것인지를 이해\n",
    "        => 데이터의 이름, 구성요소, 그리고 데이터의 출처와 주제 등에 대해 알아야함\n",
    "        \n",
    "    - 2. 데이터의 크기\n",
    "        => 데이의 크기에 따라 어떤 샘플링 진행할지 다름\n",
    "    \n",
    "    - 3. 데이터의 구성요소(feature) 확인"
   ]
  },
  {
   "cell_type": "markdown",
   "id": "e495ca4d",
   "metadata": {},
   "source": [
    "## 데이터의 속성 탐색\n",
    "\n",
    "### 피처의 속성 탐색\n",
    "    - 데이터에 질문을 던지는 것 => (학급의 신체검사 데이터라면, 이 학급의 기초통계량은 어느정도일까??)\n",
    "\n",
    "### 피처간의 상관 관계 탐색\n",
    "    - 피처 간의 공분산 또는 상관계수 확인\n",
    "    \n",
    "    "
   ]
  },
  {
   "cell_type": "markdown",
   "id": "9c9ad15f",
   "metadata": {},
   "source": [
    "## 탐색한 데이터의 시각화\n",
    "    - 데이터 시각화는 수치적 ㅍ자료만 가지고는 파악하기 애매한 패턴이나 인사이트 발견하는데 매우 유용 (직관적)"
   ]
  },
  {
   "cell_type": "markdown",
   "id": "9dbf64bc",
   "metadata": {},
   "source": [
    "# 멕시코풍 프렌차이즈 chipotle의 주문 데이터 분석하기 (실습)"
   ]
  },
  {
   "cell_type": "markdown",
   "id": "d3222a5b",
   "metadata": {},
   "source": [
    "## 데이터 확인"
   ]
  },
  {
   "cell_type": "code",
   "execution_count": 59,
   "id": "f17c65e1",
   "metadata": {
    "ExecuteTime": {
     "end_time": "2022-07-20T18:01:49.626460Z",
     "start_time": "2022-07-20T18:01:49.597355Z"
    }
   },
   "outputs": [
    {
     "name": "stdout",
     "output_type": "stream",
     "text": [
      "(4622, 5)\n",
      "\n",
      "<class 'pandas.core.frame.DataFrame'>\n",
      "RangeIndex: 4622 entries, 0 to 4621\n",
      "Data columns (total 5 columns):\n",
      " #   Column              Non-Null Count  Dtype \n",
      "---  ------              --------------  ----- \n",
      " 0   order_id            4622 non-null   int64 \n",
      " 1   quantity            4622 non-null   int64 \n",
      " 2   item_name           4622 non-null   object\n",
      " 3   choice_description  3376 non-null   object\n",
      " 4   item_price          4622 non-null   object\n",
      "dtypes: int64(2), object(3)\n",
      "memory usage: 180.7+ KB\n",
      "None\n"
     ]
    }
   ],
   "source": [
    "import pandas as pd\n",
    "\n",
    "paths = './data/chipotle.tsv'\n",
    "\n",
    "data = pd.read_csv(paths, sep='\\t')\n",
    "\n",
    "print(data.shape) # Row : 4622, Column : 5\n",
    "print()\n",
    "print(data.info()) # choice_description : Null값 존재"
   ]
  },
  {
   "cell_type": "code",
   "execution_count": 60,
   "id": "db87b059",
   "metadata": {
    "ExecuteTime": {
     "end_time": "2022-07-20T18:01:49.725775Z",
     "start_time": "2022-07-20T18:01:49.718291Z"
    }
   },
   "outputs": [
    {
     "data": {
      "text/html": [
       "<div>\n",
       "<style scoped>\n",
       "    .dataframe tbody tr th:only-of-type {\n",
       "        vertical-align: middle;\n",
       "    }\n",
       "\n",
       "    .dataframe tbody tr th {\n",
       "        vertical-align: top;\n",
       "    }\n",
       "\n",
       "    .dataframe thead th {\n",
       "        text-align: right;\n",
       "    }\n",
       "</style>\n",
       "<table border=\"1\" class=\"dataframe\">\n",
       "  <thead>\n",
       "    <tr style=\"text-align: right;\">\n",
       "      <th></th>\n",
       "      <th>order_id</th>\n",
       "      <th>quantity</th>\n",
       "      <th>item_name</th>\n",
       "      <th>choice_description</th>\n",
       "      <th>item_price</th>\n",
       "    </tr>\n",
       "  </thead>\n",
       "  <tbody>\n",
       "    <tr>\n",
       "      <th>0</th>\n",
       "      <td>1</td>\n",
       "      <td>1</td>\n",
       "      <td>Chips and Fresh Tomato Salsa</td>\n",
       "      <td>NaN</td>\n",
       "      <td>$2.39</td>\n",
       "    </tr>\n",
       "    <tr>\n",
       "      <th>1</th>\n",
       "      <td>1</td>\n",
       "      <td>1</td>\n",
       "      <td>Izze</td>\n",
       "      <td>[Clementine]</td>\n",
       "      <td>$3.39</td>\n",
       "    </tr>\n",
       "    <tr>\n",
       "      <th>2</th>\n",
       "      <td>1</td>\n",
       "      <td>1</td>\n",
       "      <td>Nantucket Nectar</td>\n",
       "      <td>[Apple]</td>\n",
       "      <td>$3.39</td>\n",
       "    </tr>\n",
       "    <tr>\n",
       "      <th>3</th>\n",
       "      <td>1</td>\n",
       "      <td>1</td>\n",
       "      <td>Chips and Tomatillo-Green Chili Salsa</td>\n",
       "      <td>NaN</td>\n",
       "      <td>$2.39</td>\n",
       "    </tr>\n",
       "    <tr>\n",
       "      <th>4</th>\n",
       "      <td>2</td>\n",
       "      <td>2</td>\n",
       "      <td>Chicken Bowl</td>\n",
       "      <td>[Tomatillo-Red Chili Salsa (Hot), [Black Beans...</td>\n",
       "      <td>$16.98</td>\n",
       "    </tr>\n",
       "  </tbody>\n",
       "</table>\n",
       "</div>"
      ],
      "text/plain": [
       "   order_id  quantity                              item_name  \\\n",
       "0         1         1           Chips and Fresh Tomato Salsa   \n",
       "1         1         1                                   Izze   \n",
       "2         1         1                       Nantucket Nectar   \n",
       "3         1         1  Chips and Tomatillo-Green Chili Salsa   \n",
       "4         2         2                           Chicken Bowl   \n",
       "\n",
       "                                  choice_description item_price  \n",
       "0                                                NaN     $2.39   \n",
       "1                                       [Clementine]     $3.39   \n",
       "2                                            [Apple]     $3.39   \n",
       "3                                                NaN     $2.39   \n",
       "4  [Tomatillo-Red Chili Salsa (Hot), [Black Beans...    $16.98   "
      ]
     },
     "execution_count": 60,
     "metadata": {},
     "output_type": "execute_result"
    }
   ],
   "source": [
    "data.head()"
   ]
  },
  {
   "cell_type": "markdown",
   "id": "992ebdc8",
   "metadata": {},
   "source": [
    "    - order_id : 주문 번호\n",
    "    - quantity : 주문 량\n",
    "    - item_name : 주문 음식\n",
    "    - choice_description : 주문상세옵션\n",
    "    - item_price : 주문 가격"
   ]
  },
  {
   "cell_type": "code",
   "execution_count": 61,
   "id": "56db219f",
   "metadata": {
    "ExecuteTime": {
     "end_time": "2022-07-20T18:01:49.990174Z",
     "start_time": "2022-07-20T18:01:49.967771Z"
    }
   },
   "outputs": [
    {
     "data": {
      "text/html": [
       "<div>\n",
       "<style scoped>\n",
       "    .dataframe tbody tr th:only-of-type {\n",
       "        vertical-align: middle;\n",
       "    }\n",
       "\n",
       "    .dataframe tbody tr th {\n",
       "        vertical-align: top;\n",
       "    }\n",
       "\n",
       "    .dataframe thead th {\n",
       "        text-align: right;\n",
       "    }\n",
       "</style>\n",
       "<table border=\"1\" class=\"dataframe\">\n",
       "  <thead>\n",
       "    <tr style=\"text-align: right;\">\n",
       "      <th></th>\n",
       "      <th>quantity</th>\n",
       "    </tr>\n",
       "  </thead>\n",
       "  <tbody>\n",
       "    <tr>\n",
       "      <th>count</th>\n",
       "      <td>4622.000000</td>\n",
       "    </tr>\n",
       "    <tr>\n",
       "      <th>mean</th>\n",
       "      <td>1.075725</td>\n",
       "    </tr>\n",
       "    <tr>\n",
       "      <th>std</th>\n",
       "      <td>0.410186</td>\n",
       "    </tr>\n",
       "    <tr>\n",
       "      <th>min</th>\n",
       "      <td>1.000000</td>\n",
       "    </tr>\n",
       "    <tr>\n",
       "      <th>25%</th>\n",
       "      <td>1.000000</td>\n",
       "    </tr>\n",
       "    <tr>\n",
       "      <th>50%</th>\n",
       "      <td>1.000000</td>\n",
       "    </tr>\n",
       "    <tr>\n",
       "      <th>75%</th>\n",
       "      <td>1.000000</td>\n",
       "    </tr>\n",
       "    <tr>\n",
       "      <th>max</th>\n",
       "      <td>15.000000</td>\n",
       "    </tr>\n",
       "  </tbody>\n",
       "</table>\n",
       "</div>"
      ],
      "text/plain": [
       "          quantity\n",
       "count  4622.000000\n",
       "mean      1.075725\n",
       "std       0.410186\n",
       "min       1.000000\n",
       "25%       1.000000\n",
       "50%       1.000000\n",
       "75%       1.000000\n",
       "max      15.000000"
      ]
     },
     "metadata": {},
     "output_type": "display_data"
    }
   ],
   "source": [
    "data['order_id'] = data['order_id'].astype('str') # 기초 통계 필요 없으므로 문자열로 변경\n",
    "\n",
    "display(data.describe())\n",
    "\n",
    "# 평균 1개 최대 15개시키네\n",
    "# 여러개 시키는 경우는 별로 없는 듯"
   ]
  },
  {
   "cell_type": "markdown",
   "id": "8ea09d94",
   "metadata": {},
   "source": [
    "## order_id와 itemdml 개수\n"
   ]
  },
  {
   "cell_type": "code",
   "execution_count": 62,
   "id": "c207445b",
   "metadata": {
    "ExecuteTime": {
     "end_time": "2022-07-20T18:01:50.314950Z",
     "start_time": "2022-07-20T18:01:50.305271Z"
    }
   },
   "outputs": [
    {
     "name": "stdout",
     "output_type": "stream",
     "text": [
      "주문 아이디 개수 : 1834\n",
      "가능한 주문 음식 : 50\n"
     ]
    }
   ],
   "source": [
    "print(f'주문 아이디 개수 : {len(data[\"order_id\"].unique())}') # 주문 테이블은 1834개라는 것\n",
    "print(f'가능한 주문 음식 : {len(data[\"item_name\"].unique())}') # 주문 음식 50개"
   ]
  },
  {
   "cell_type": "code",
   "execution_count": 63,
   "id": "22126b8f",
   "metadata": {
    "ExecuteTime": {
     "end_time": "2022-07-20T18:01:50.433126Z",
     "start_time": "2022-07-20T18:01:50.426174Z"
    }
   },
   "outputs": [
    {
     "data": {
      "text/plain": [
       "Chicken Bowl                             726\n",
       "Chicken Burrito                          553\n",
       "Chips and Guacamole                      479\n",
       "Steak Burrito                            368\n",
       "Canned Soft Drink                        301\n",
       "Steak Bowl                               211\n",
       "Chips                                    211\n",
       "Bottled Water                            162\n",
       "Chicken Soft Tacos                       115\n",
       "Chips and Fresh Tomato Salsa             110\n",
       "Chicken Salad Bowl                       110\n",
       "Canned Soda                              104\n",
       "Side of Chips                            101\n",
       "Veggie Burrito                            95\n",
       "Barbacoa Burrito                          91\n",
       "Veggie Bowl                               85\n",
       "Carnitas Bowl                             68\n",
       "Barbacoa Bowl                             66\n",
       "Carnitas Burrito                          59\n",
       "Steak Soft Tacos                          55\n",
       "6 Pack Soft Drink                         54\n",
       "Chips and Tomatillo Red Chili Salsa       48\n",
       "Chicken Crispy Tacos                      47\n",
       "Chips and Tomatillo Green Chili Salsa     43\n",
       "Carnitas Soft Tacos                       40\n",
       "Steak Crispy Tacos                        35\n",
       "Chips and Tomatillo-Green Chili Salsa     31\n",
       "Steak Salad Bowl                          29\n",
       "Nantucket Nectar                          27\n",
       "Barbacoa Soft Tacos                       25\n",
       "Chips and Roasted Chili Corn Salsa        22\n",
       "Izze                                      20\n",
       "Chips and Tomatillo-Red Chili Salsa       20\n",
       "Veggie Salad Bowl                         18\n",
       "Chips and Roasted Chili-Corn Salsa        18\n",
       "Barbacoa Crispy Tacos                     11\n",
       "Barbacoa Salad Bowl                       10\n",
       "Chicken Salad                              9\n",
       "Veggie Soft Tacos                          7\n",
       "Carnitas Crispy Tacos                      7\n",
       "Veggie Salad                               6\n",
       "Carnitas Salad Bowl                        6\n",
       "Burrito                                    6\n",
       "Steak Salad                                4\n",
       "Crispy Tacos                               2\n",
       "Salad                                      2\n",
       "Bowl                                       2\n",
       "Chips and Mild Fresh Tomato Salsa          1\n",
       "Veggie Crispy Tacos                        1\n",
       "Carnitas Salad                             1\n",
       "Name: item_name, dtype: int64"
      ]
     },
     "execution_count": 63,
     "metadata": {},
     "output_type": "execute_result"
    }
   ],
   "source": [
    "data['item_name'].value_counts()"
   ]
  },
  {
   "cell_type": "markdown",
   "id": "7bc5bc5b",
   "metadata": {},
   "source": [
    "## 가장 많이 주문한 아이템 Top 10"
   ]
  },
  {
   "cell_type": "code",
   "execution_count": 64,
   "id": "296e1bb0",
   "metadata": {
    "ExecuteTime": {
     "end_time": "2022-07-20T18:01:50.752309Z",
     "start_time": "2022-07-20T18:01:50.743081Z"
    }
   },
   "outputs": [
    {
     "name": "stdout",
     "output_type": "stream",
     "text": [
      "Top 1 : Chicken Bowl\n",
      "Top 2 : Chicken Burrito\n",
      "Top 3 : Chips and Guacamole\n",
      "Top 4 : Steak Burrito\n",
      "Top 5 : Canned Soft Drink\n",
      "Top 6 : Steak Bowl\n",
      "Top 7 : Chips\n",
      "Top 8 : Bottled Water\n",
      "Top 9 : Chicken Soft Tacos\n",
      "Top 10 : Chips and Fresh Tomato Salsa\n"
     ]
    }
   ],
   "source": [
    "top10 = data['item_name'].value_counts()[:10].index\n",
    "\n",
    "for cookIdx in range(len(top10)):\n",
    "    print(f'Top {cookIdx+1} : {top10[cookIdx]}')"
   ]
  },
  {
   "cell_type": "markdown",
   "id": "79c65ece",
   "metadata": {},
   "source": [
    "## 아이템별 주문 개수"
   ]
  },
  {
   "cell_type": "code",
   "execution_count": 65,
   "id": "6fc53b1f",
   "metadata": {
    "ExecuteTime": {
     "end_time": "2022-07-20T18:01:51.090688Z",
     "start_time": "2022-07-20T18:01:51.078107Z"
    }
   },
   "outputs": [
    {
     "data": {
      "text/plain": [
       "item_name\n",
       "6 Pack Soft Drink         54\n",
       "Barbacoa Bowl             66\n",
       "Barbacoa Burrito          91\n",
       "Barbacoa Crispy Tacos     11\n",
       "Barbacoa Salad Bowl       10\n",
       "Barbacoa Soft Tacos       25\n",
       "Bottled Water            162\n",
       "Bowl                       2\n",
       "Burrito                    6\n",
       "Canned Soda              104\n",
       "Name: order_id, dtype: int64"
      ]
     },
     "execution_count": 65,
     "metadata": {},
     "output_type": "execute_result"
    }
   ],
   "source": [
    "data.groupby('item_name')['order_id'].count()[:10]"
   ]
  },
  {
   "cell_type": "markdown",
   "id": "d2d4a846",
   "metadata": {},
   "source": [
    "## 아이템별 주문 총량"
   ]
  },
  {
   "cell_type": "code",
   "execution_count": 66,
   "id": "589fd132",
   "metadata": {
    "ExecuteTime": {
     "end_time": "2022-07-20T18:01:51.461115Z",
     "start_time": "2022-07-20T18:01:51.450045Z"
    }
   },
   "outputs": [
    {
     "data": {
      "text/plain": [
       "item_name\n",
       "6 Pack Soft Drink         55\n",
       "Barbacoa Bowl             66\n",
       "Barbacoa Burrito          91\n",
       "Barbacoa Crispy Tacos     12\n",
       "Barbacoa Salad Bowl       10\n",
       "Barbacoa Soft Tacos       25\n",
       "Bottled Water            211\n",
       "Bowl                       4\n",
       "Burrito                    6\n",
       "Canned Soda              126\n",
       "Name: quantity, dtype: int64"
      ]
     },
     "execution_count": 66,
     "metadata": {},
     "output_type": "execute_result"
    }
   ],
   "source": [
    "data.groupby('item_name')['quantity'].sum()[:10]"
   ]
  },
  {
   "cell_type": "code",
   "execution_count": 67,
   "id": "28b86633",
   "metadata": {
    "ExecuteTime": {
     "end_time": "2022-07-20T18:01:51.815979Z",
     "start_time": "2022-07-20T18:01:51.678628Z"
    }
   },
   "outputs": [
    {
     "data": {
      "image/png": "[encoded data removed]",
      "text/plain": [
       "<Figure size 432x288 with 1 Axes>"
      ]
     },
     "metadata": {
      "needs_background": "light"
     },
     "output_type": "display_data"
    }
   ],
   "source": [
    "import matplotlib.pyplot as plt\n",
    "plt.rcParams['font.family'] = 'AppleGothic'\n",
    "%matplotlib inline\n",
    "\n",
    "\n",
    "item_name_list = list(data.groupby('item_name')['quantity'].sum().index)\n",
    "item_name_sums = list(data.groupby('item_name')['quantity'].sum().values)\n",
    "\n",
    "x_pos = np.arange(len(item_name_list))\n",
    "\n",
    "plt.bar(x_pos, item_name_sums, align='center')\n",
    "plt.ylabel('주문 총량')\n",
    "plt.title('아이템별 주문 총량')\n",
    "plt.show()\n",
    "\n"
   ]
  },
  {
   "cell_type": "markdown",
   "id": "dd3381d5",
   "metadata": {},
   "source": [
    "## 데이터 전처리 (item_price)"
   ]
  },
  {
   "cell_type": "code",
   "execution_count": 68,
   "id": "142a511f",
   "metadata": {
    "ExecuteTime": {
     "end_time": "2022-07-20T18:01:52.186633Z",
     "start_time": "2022-07-20T18:01:52.172029Z"
    }
   },
   "outputs": [
    {
     "data": {
      "text/plain": [
       "0     2.39\n",
       "1     3.39\n",
       "2     3.39\n",
       "3     2.39\n",
       "4    16.98\n",
       "Name: item_price, dtype: float64"
      ]
     },
     "execution_count": 68,
     "metadata": {},
     "output_type": "execute_result"
    }
   ],
   "source": [
    "item_price_function = lambda x: float(x[1:])\n",
    "\n",
    "data['item_price'] = data['item_price'].apply(item_price_function)\n",
    "data['item_price'].head()"
   ]
  },
  {
   "cell_type": "markdown",
   "id": "b4e8164e",
   "metadata": {
    "ExecuteTime": {
     "end_time": "2022-07-20T17:55:14.339783Z",
     "start_time": "2022-07-20T17:55:14.329051Z"
    }
   },
   "source": [
    "## 주문당 평균 계산금액"
   ]
  },
  {
   "cell_type": "code",
   "execution_count": 77,
   "id": "90ffc14b",
   "metadata": {
    "ExecuteTime": {
     "end_time": "2022-07-20T18:04:45.897956Z",
     "start_time": "2022-07-20T18:04:45.889100Z"
    }
   },
   "outputs": [
    {
     "name": "stdout",
     "output_type": "stream",
     "text": [
      "주문당 평균 계산 금액 : 18.81\n"
     ]
    }
   ],
   "source": [
    "print(f'주문당 평균 계산 금액 : {round(data.groupby(\"order_id\")[\"item_price\"].sum().mean(), 2)}')"
   ]
  },
  {
   "cell_type": "markdown",
   "id": "431b41ae",
   "metadata": {},
   "source": [
    "## 한 주문에 10달러 이상인 번호"
   ]
  },
  {
   "cell_type": "code",
   "execution_count": 100,
   "id": "88cbc65c",
   "metadata": {
    "ExecuteTime": {
     "end_time": "2022-07-20T18:09:52.172183Z",
     "start_time": "2022-07-20T18:09:52.157181Z"
    }
   },
   "outputs": [
    {
     "data": {
      "text/plain": [
       "order_id\n",
       "1       11.56\n",
       "10      13.20\n",
       "100     10.08\n",
       "1000    20.50\n",
       "1001    10.08\n",
       "        ...  \n",
       "995     24.95\n",
       "996     43.00\n",
       "997     22.50\n",
       "998     10.88\n",
       "999     29.25\n",
       "Name: item_price, Length: 1834, dtype: float64"
      ]
     },
     "execution_count": 100,
     "metadata": {},
     "output_type": "execute_result"
    }
   ],
   "source": [
    "data_con1 = data.groupby('order_id')['item_price'].sum()\n",
    "\n",
    "data_con1[data_con1 >= 10]"
   ]
  },
  {
   "cell_type": "markdown",
   "id": "b46e3bed",
   "metadata": {},
   "source": [
    "## 각 아이템의 가격 "
   ]
  },
  {
   "cell_type": "code",
   "execution_count": 125,
   "id": "289ca609",
   "metadata": {
    "ExecuteTime": {
     "end_time": "2022-07-20T18:16:02.642395Z",
     "start_time": "2022-07-20T18:16:02.608324Z"
    }
   },
   "outputs": [
    {
     "data": {
      "text/plain": [
       "item_name\n",
       "Steak Salad Bowl         9.39\n",
       "Barbacoa Salad Bowl      9.39\n",
       "Carnitas Salad Bowl      9.39\n",
       "Carnitas Soft Tacos      8.99\n",
       "Carnitas Crispy Tacos    8.99\n",
       "Steak Soft Tacos         8.99\n",
       "Carnitas Salad           8.99\n",
       "Carnitas Bowl            8.99\n",
       "Barbacoa Soft Tacos      8.99\n",
       "Barbacoa Crispy Tacos    8.99\n",
       "Name: item_price, dtype: float64"
      ]
     },
     "execution_count": 125,
     "metadata": {},
     "output_type": "execute_result"
    }
   ],
   "source": [
    "data_cond2 = data[data.quantity == 1].groupby('item_name').min().sort_values(by='item_price', ascending=False)['item_price']\n",
    "data_cond2[:10]"
   ]
  },
  {
   "cell_type": "code",
   "execution_count": 136,
   "id": "eee29a4d",
   "metadata": {
    "ExecuteTime": {
     "end_time": "2022-07-20T18:20:42.529266Z",
     "start_time": "2022-07-20T18:20:42.395366Z"
    }
   },
   "outputs": [
    {
     "data": {
      "image/png": "[encoded data removed]",
      "text/plain": [
       "<Figure size 864x576 with 1 Axes>"
      ]
     },
     "metadata": {
      "needs_background": "light"
     },
     "output_type": "display_data"
    }
   ],
   "source": [
    "item_name_list = data_cond2.index.tolist()\n",
    "x_pos = np.arange(len(item_name_list))\n",
    "item_price = data_cond2.values.tolist()\n",
    "plt.figure(figsize=(12, 8))\n",
    "plt.bar(x_pos, item_price, align='center')\n",
    "plt.ylabel('가격($)')\n",
    "plt.title('아이템 가격 분포')\n",
    "plt.show()\n",
    "\n",
    "\n"
   ]
  },
  {
   "cell_type": "code",
   "execution_count": 135,
   "id": "4750fc6b",
   "metadata": {
    "ExecuteTime": {
     "end_time": "2022-07-20T18:20:35.220594Z",
     "start_time": "2022-07-20T18:20:35.106646Z"
    }
   },
   "outputs": [
    {
     "data": {
      "image/png": "[encoded data removed]",
      "text/plain": [
       "<Figure size 864x576 with 1 Axes>"
      ]
     },
     "metadata": {
      "needs_background": "light"
     },
     "output_type": "display_data"
    }
   ],
   "source": [
    "plt.figure(figsize=(12, 8))\n",
    "plt.hist(item_price)\n",
    "plt.ylabel('포함된 아이템 수')\n",
    "plt.title('아이템 가격 분포')\n",
    "plt.show()\n"
   ]
  },
  {
   "cell_type": "markdown",
   "id": "74add73d",
   "metadata": {},
   "source": [
    "## 가장 비싼 주문에서 팔린 아이템 개수"
   ]
  },
  {
   "cell_type": "code",
   "execution_count": 152,
   "id": "7bfa2222",
   "metadata": {
    "ExecuteTime": {
     "end_time": "2022-07-20T18:27:40.712548Z",
     "start_time": "2022-07-20T18:27:40.698475Z"
    }
   },
   "outputs": [
    {
     "data": {
      "text/plain": [
       "23"
      ]
     },
     "execution_count": 152,
     "metadata": {},
     "output_type": "execute_result"
    }
   ],
   "source": [
    "data.groupby('order_id').sum().sort_values(by='item_price',ascending=False)['quantity'][0]"
   ]
  },
  {
   "cell_type": "markdown",
   "id": "4ffd03d5",
   "metadata": {},
   "source": [
    "## 'Veggie Salad Bowl'이 팔린 주문 수"
   ]
  },
  {
   "cell_type": "code",
   "execution_count": 174,
   "id": "350ca305",
   "metadata": {
    "ExecuteTime": {
     "end_time": "2022-07-20T18:33:02.309207Z",
     "start_time": "2022-07-20T18:33:02.296817Z"
    }
   },
   "outputs": [
    {
     "data": {
      "text/plain": [
       "18"
      ]
     },
     "execution_count": 174,
     "metadata": {},
     "output_type": "execute_result"
    }
   ],
   "source": [
    "len(data.loc[data['item_name'] == 'Veggie Salad Bowl'].groupby('order_id').sum())"
   ]
  },
  {
   "cell_type": "markdown",
   "id": "e4f45b4c",
   "metadata": {},
   "source": [
    "## 'Chicken Bowl'을 2개이상 주문한 주문 수"
   ]
  },
  {
   "cell_type": "code",
   "execution_count": 185,
   "id": "6c686567",
   "metadata": {
    "ExecuteTime": {
     "end_time": "2022-07-20T18:35:22.600620Z",
     "start_time": "2022-07-20T18:35:22.587297Z"
    }
   },
   "outputs": [
    {
     "data": {
      "text/plain": [
       "114"
      ]
     },
     "execution_count": 185,
     "metadata": {},
     "output_type": "execute_result"
    }
   ],
   "source": [
    "(data.loc[data['item_name'] == 'Chicken Bowl', :].groupby('order_id').sum()['quantity'] >= 2).sum()"
   ]
  }
 ],
 "metadata": {
  "hide_input": false,
  "kernelspec": {
   "display_name": "Python 3",
   "language": "python",
   "name": "python3"
  },
  "language_info": {
   "codemirror_mode": {
    "name": "ipython",
    "version": 3
   },
   "file_extension": ".py",
   "mimetype": "text/x-python",
   "name": "python",
   "nbconvert_exporter": "python",
   "pygments_lexer": "ipython3",
   "version": "3.8.8"
  },
  "toc": {
   "base_numbering": 1,
   "nav_menu": {},
   "number_sections": true,
   "sideBar": true,
   "skip_h1_title": false,
   "title_cell": "Table of Contents",
   "title_sidebar": "Contents",
   "toc_cell": false,
   "toc_position": {},
   "toc_section_display": true,
   "toc_window_display": false
  },
  "varInspector": {
   "cols": {
    "lenName": 16,
    "lenType": 16,
    "lenVar": 40
   },
   "kernels_config": {
    "python": {
     "delete_cmd_postfix": "",
     "delete_cmd_prefix": "del ",
     "library": "var_list.py",
     "varRefreshCmd": "print(var_dic_list())"
    },
    "r": {
     "delete_cmd_postfix": ") ",
     "delete_cmd_prefix": "rm(",
     "library": "var_list.r",
     "varRefreshCmd": "cat(var_dic_list()) "
    }
   },
   "types_to_exclude": [
    "module",
    "function",
    "builtin_function_or_method",
    "instance",
    "_Feature"
   ],
   "window_display": false
  }
 },
 "nbformat": 4,
 "nbformat_minor": 5
}
