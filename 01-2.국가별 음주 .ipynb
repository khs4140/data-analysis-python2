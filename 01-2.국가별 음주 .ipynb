{
 "cells": [
  {
   "cell_type": "markdown",
   "id": "3d4ded3a",
   "metadata": {},
   "source": [
    "# 국가별 음주 데이터 분석하기"
   ]
  },
  {
   "cell_type": "code",
   "execution_count": 17,
   "id": "c4ba5ec1",
   "metadata": {
    "ExecuteTime": {
     "end_time": "2022-07-21T11:58:04.686017Z",
     "start_time": "2022-07-21T11:58:04.652358Z"
    }
   },
   "outputs": [
    {
     "data": {
      "text/html": [
       "<div>\n",
       "<style scoped>\n",
       "    .dataframe tbody tr th:only-of-type {\n",
       "        vertical-align: middle;\n",
       "    }\n",
       "\n",
       "    .dataframe tbody tr th {\n",
       "        vertical-align: top;\n",
       "    }\n",
       "\n",
       "    .dataframe thead th {\n",
       "        text-align: right;\n",
       "    }\n",
       "</style>\n",
       "<table border=\"1\" class=\"dataframe\">\n",
       "  <thead>\n",
       "    <tr style=\"text-align: right;\">\n",
       "      <th></th>\n",
       "      <th>country</th>\n",
       "      <th>beer_servings</th>\n",
       "      <th>spirit_servings</th>\n",
       "      <th>wine_servings</th>\n",
       "      <th>total_litres_of_pure_alcohol</th>\n",
       "      <th>continent</th>\n",
       "    </tr>\n",
       "  </thead>\n",
       "  <tbody>\n",
       "    <tr>\n",
       "      <th>0</th>\n",
       "      <td>Afghanistan</td>\n",
       "      <td>0</td>\n",
       "      <td>0</td>\n",
       "      <td>0</td>\n",
       "      <td>0.0</td>\n",
       "      <td>AS</td>\n",
       "    </tr>\n",
       "    <tr>\n",
       "      <th>1</th>\n",
       "      <td>Albania</td>\n",
       "      <td>89</td>\n",
       "      <td>132</td>\n",
       "      <td>54</td>\n",
       "      <td>4.9</td>\n",
       "      <td>EU</td>\n",
       "    </tr>\n",
       "    <tr>\n",
       "      <th>2</th>\n",
       "      <td>Algeria</td>\n",
       "      <td>25</td>\n",
       "      <td>0</td>\n",
       "      <td>14</td>\n",
       "      <td>0.7</td>\n",
       "      <td>AF</td>\n",
       "    </tr>\n",
       "    <tr>\n",
       "      <th>3</th>\n",
       "      <td>Andorra</td>\n",
       "      <td>245</td>\n",
       "      <td>138</td>\n",
       "      <td>312</td>\n",
       "      <td>12.4</td>\n",
       "      <td>EU</td>\n",
       "    </tr>\n",
       "    <tr>\n",
       "      <th>4</th>\n",
       "      <td>Angola</td>\n",
       "      <td>217</td>\n",
       "      <td>57</td>\n",
       "      <td>45</td>\n",
       "      <td>5.9</td>\n",
       "      <td>AF</td>\n",
       "    </tr>\n",
       "  </tbody>\n",
       "</table>\n",
       "</div>"
      ],
      "text/plain": [
       "       country  beer_servings  spirit_servings  wine_servings  \\\n",
       "0  Afghanistan              0                0              0   \n",
       "1      Albania             89              132             54   \n",
       "2      Algeria             25                0             14   \n",
       "3      Andorra            245              138            312   \n",
       "4       Angola            217               57             45   \n",
       "\n",
       "   total_litres_of_pure_alcohol continent  \n",
       "0                           0.0        AS  \n",
       "1                           4.9        EU  \n",
       "2                           0.7        AF  \n",
       "3                          12.4        EU  \n",
       "4                           5.9        AF  "
      ]
     },
     "metadata": {},
     "output_type": "display_data"
    },
    {
     "name": "stdout",
     "output_type": "stream",
     "text": [
      "\n",
      "<class 'pandas.core.frame.DataFrame'>\n",
      "RangeIndex: 193 entries, 0 to 192\n",
      "Data columns (total 6 columns):\n",
      " #   Column                        Non-Null Count  Dtype  \n",
      "---  ------                        --------------  -----  \n",
      " 0   country                       193 non-null    object \n",
      " 1   beer_servings                 193 non-null    int64  \n",
      " 2   spirit_servings               193 non-null    int64  \n",
      " 3   wine_servings                 193 non-null    int64  \n",
      " 4   total_litres_of_pure_alcohol  193 non-null    float64\n",
      " 5   continent                     170 non-null    object \n",
      "dtypes: float64(1), int64(3), object(2)\n",
      "memory usage: 9.2+ KB\n",
      "None\n"
     ]
    }
   ],
   "source": [
    "import pandas as pd\n",
    "import seaborn as sns\n",
    "import matplotlib.pyplot as plt\n",
    "%matplotlib inline\n",
    "\n",
    "plt.rcParams['font.family'] = 'AppleGothic'\n",
    "\n",
    "\n",
    "\n",
    "path = './data/drinks.csv'\n",
    "data = pd.read_csv(path)\n",
    "\n",
    "display(data.head())\n",
    "print()\n",
    "print(data.info())"
   ]
  },
  {
   "cell_type": "markdown",
   "id": "534d402b",
   "metadata": {},
   "source": [
    "    - country : 국가 정보\n",
    "    - beer_servings : beer 소비량\n",
    "    - spirit_servings : spirit 소비량\n",
    "    - wine_servings : wine 소비량\n",
    "    - total_litres_of_pure_alcohol : 총 알코올 소비량\n",
    "    - continent : 대륙정보"
   ]
  },
  {
   "cell_type": "code",
   "execution_count": 18,
   "id": "c0446eb0",
   "metadata": {
    "ExecuteTime": {
     "end_time": "2022-07-21T11:58:05.018968Z",
     "start_time": "2022-07-21T11:58:04.990746Z"
    }
   },
   "outputs": [
    {
     "data": {
      "text/html": [
       "<div>\n",
       "<style scoped>\n",
       "    .dataframe tbody tr th:only-of-type {\n",
       "        vertical-align: middle;\n",
       "    }\n",
       "\n",
       "    .dataframe tbody tr th {\n",
       "        vertical-align: top;\n",
       "    }\n",
       "\n",
       "    .dataframe thead th {\n",
       "        text-align: right;\n",
       "    }\n",
       "</style>\n",
       "<table border=\"1\" class=\"dataframe\">\n",
       "  <thead>\n",
       "    <tr style=\"text-align: right;\">\n",
       "      <th></th>\n",
       "      <th>beer_servings</th>\n",
       "      <th>spirit_servings</th>\n",
       "      <th>wine_servings</th>\n",
       "      <th>total_litres_of_pure_alcohol</th>\n",
       "    </tr>\n",
       "  </thead>\n",
       "  <tbody>\n",
       "    <tr>\n",
       "      <th>count</th>\n",
       "      <td>193.000000</td>\n",
       "      <td>193.000000</td>\n",
       "      <td>193.000000</td>\n",
       "      <td>193.000000</td>\n",
       "    </tr>\n",
       "    <tr>\n",
       "      <th>mean</th>\n",
       "      <td>106.160622</td>\n",
       "      <td>80.994819</td>\n",
       "      <td>49.450777</td>\n",
       "      <td>4.717098</td>\n",
       "    </tr>\n",
       "    <tr>\n",
       "      <th>std</th>\n",
       "      <td>101.143103</td>\n",
       "      <td>88.284312</td>\n",
       "      <td>79.697598</td>\n",
       "      <td>3.773298</td>\n",
       "    </tr>\n",
       "    <tr>\n",
       "      <th>min</th>\n",
       "      <td>0.000000</td>\n",
       "      <td>0.000000</td>\n",
       "      <td>0.000000</td>\n",
       "      <td>0.000000</td>\n",
       "    </tr>\n",
       "    <tr>\n",
       "      <th>25%</th>\n",
       "      <td>20.000000</td>\n",
       "      <td>4.000000</td>\n",
       "      <td>1.000000</td>\n",
       "      <td>1.300000</td>\n",
       "    </tr>\n",
       "    <tr>\n",
       "      <th>50%</th>\n",
       "      <td>76.000000</td>\n",
       "      <td>56.000000</td>\n",
       "      <td>8.000000</td>\n",
       "      <td>4.200000</td>\n",
       "    </tr>\n",
       "    <tr>\n",
       "      <th>75%</th>\n",
       "      <td>188.000000</td>\n",
       "      <td>128.000000</td>\n",
       "      <td>59.000000</td>\n",
       "      <td>7.200000</td>\n",
       "    </tr>\n",
       "    <tr>\n",
       "      <th>max</th>\n",
       "      <td>376.000000</td>\n",
       "      <td>438.000000</td>\n",
       "      <td>370.000000</td>\n",
       "      <td>14.400000</td>\n",
       "    </tr>\n",
       "  </tbody>\n",
       "</table>\n",
       "</div>"
      ],
      "text/plain": [
       "       beer_servings  spirit_servings  wine_servings  \\\n",
       "count     193.000000       193.000000     193.000000   \n",
       "mean      106.160622        80.994819      49.450777   \n",
       "std       101.143103        88.284312      79.697598   \n",
       "min         0.000000         0.000000       0.000000   \n",
       "25%        20.000000         4.000000       1.000000   \n",
       "50%        76.000000        56.000000       8.000000   \n",
       "75%       188.000000       128.000000      59.000000   \n",
       "max       376.000000       438.000000     370.000000   \n",
       "\n",
       "       total_litres_of_pure_alcohol  \n",
       "count                    193.000000  \n",
       "mean                       4.717098  \n",
       "std                        3.773298  \n",
       "min                        0.000000  \n",
       "25%                        1.300000  \n",
       "50%                        4.200000  \n",
       "75%                        7.200000  \n",
       "max                       14.400000  "
      ]
     },
     "execution_count": 18,
     "metadata": {},
     "output_type": "execute_result"
    }
   ],
   "source": [
    "data.describe()"
   ]
  },
  {
   "cell_type": "markdown",
   "id": "02744cc0",
   "metadata": {},
   "source": [
    "## 상관관계 확인"
   ]
  },
  {
   "cell_type": "code",
   "execution_count": 19,
   "id": "6dfc4cf1",
   "metadata": {
    "ExecuteTime": {
     "end_time": "2022-07-21T11:58:05.358422Z",
     "start_time": "2022-07-21T11:58:05.346298Z"
    }
   },
   "outputs": [
    {
     "data": {
      "text/html": [
       "<div>\n",
       "<style scoped>\n",
       "    .dataframe tbody tr th:only-of-type {\n",
       "        vertical-align: middle;\n",
       "    }\n",
       "\n",
       "    .dataframe tbody tr th {\n",
       "        vertical-align: top;\n",
       "    }\n",
       "\n",
       "    .dataframe thead th {\n",
       "        text-align: right;\n",
       "    }\n",
       "</style>\n",
       "<table border=\"1\" class=\"dataframe\">\n",
       "  <thead>\n",
       "    <tr style=\"text-align: right;\">\n",
       "      <th></th>\n",
       "      <th>beer_servings</th>\n",
       "      <th>wine_servings</th>\n",
       "    </tr>\n",
       "  </thead>\n",
       "  <tbody>\n",
       "    <tr>\n",
       "      <th>beer_servings</th>\n",
       "      <td>1.000000</td>\n",
       "      <td>0.527172</td>\n",
       "    </tr>\n",
       "    <tr>\n",
       "      <th>wine_servings</th>\n",
       "      <td>0.527172</td>\n",
       "      <td>1.000000</td>\n",
       "    </tr>\n",
       "  </tbody>\n",
       "</table>\n",
       "</div>"
      ],
      "text/plain": [
       "               beer_servings  wine_servings\n",
       "beer_servings       1.000000       0.527172\n",
       "wine_servings       0.527172       1.000000"
      ]
     },
     "execution_count": 19,
     "metadata": {},
     "output_type": "execute_result"
    }
   ],
   "source": [
    "corr = data.loc[:, ['beer_servings', 'wine_servings']].corr()\n",
    "corr"
   ]
  },
  {
   "cell_type": "code",
   "execution_count": 20,
   "id": "2eaa95ab",
   "metadata": {
    "ExecuteTime": {
     "end_time": "2022-07-21T11:58:05.556221Z",
     "start_time": "2022-07-21T11:58:05.538039Z"
    }
   },
   "outputs": [
    {
     "data": {
      "text/html": [
       "<div>\n",
       "<style scoped>\n",
       "    .dataframe tbody tr th:only-of-type {\n",
       "        vertical-align: middle;\n",
       "    }\n",
       "\n",
       "    .dataframe tbody tr th {\n",
       "        vertical-align: top;\n",
       "    }\n",
       "\n",
       "    .dataframe thead th {\n",
       "        text-align: right;\n",
       "    }\n",
       "</style>\n",
       "<table border=\"1\" class=\"dataframe\">\n",
       "  <thead>\n",
       "    <tr style=\"text-align: right;\">\n",
       "      <th></th>\n",
       "      <th>beer_servings</th>\n",
       "      <th>wine_servings</th>\n",
       "      <th>spirit_servings</th>\n",
       "      <th>total_litres_of_pure_alcohol</th>\n",
       "    </tr>\n",
       "  </thead>\n",
       "  <tbody>\n",
       "    <tr>\n",
       "      <th>beer_servings</th>\n",
       "      <td>1.000000</td>\n",
       "      <td>0.527172</td>\n",
       "      <td>0.458819</td>\n",
       "      <td>0.835839</td>\n",
       "    </tr>\n",
       "    <tr>\n",
       "      <th>wine_servings</th>\n",
       "      <td>0.527172</td>\n",
       "      <td>1.000000</td>\n",
       "      <td>0.194797</td>\n",
       "      <td>0.667598</td>\n",
       "    </tr>\n",
       "    <tr>\n",
       "      <th>spirit_servings</th>\n",
       "      <td>0.458819</td>\n",
       "      <td>0.194797</td>\n",
       "      <td>1.000000</td>\n",
       "      <td>0.654968</td>\n",
       "    </tr>\n",
       "    <tr>\n",
       "      <th>total_litres_of_pure_alcohol</th>\n",
       "      <td>0.835839</td>\n",
       "      <td>0.667598</td>\n",
       "      <td>0.654968</td>\n",
       "      <td>1.000000</td>\n",
       "    </tr>\n",
       "  </tbody>\n",
       "</table>\n",
       "</div>"
      ],
      "text/plain": [
       "                              beer_servings  wine_servings  spirit_servings  \\\n",
       "beer_servings                      1.000000       0.527172         0.458819   \n",
       "wine_servings                      0.527172       1.000000         0.194797   \n",
       "spirit_servings                    0.458819       0.194797         1.000000   \n",
       "total_litres_of_pure_alcohol       0.835839       0.667598         0.654968   \n",
       "\n",
       "                              total_litres_of_pure_alcohol  \n",
       "beer_servings                                     0.835839  \n",
       "wine_servings                                     0.667598  \n",
       "spirit_servings                                   0.654968  \n",
       "total_litres_of_pure_alcohol                      1.000000  "
      ]
     },
     "metadata": {},
     "output_type": "display_data"
    }
   ],
   "source": [
    "columns = ['beer_servings', 'wine_servings', 'spirit_servings', 'total_litres_of_pure_alcohol']\n",
    "\n",
    "corr = data[columns].corr(method='pearson')\n",
    "display(corr)"
   ]
  },
  {
   "cell_type": "code",
   "execution_count": 21,
   "id": "80129e10",
   "metadata": {
    "ExecuteTime": {
     "end_time": "2022-07-21T11:58:05.882853Z",
     "start_time": "2022-07-21T11:58:05.717993Z"
    }
   },
   "outputs": [
    {
     "data": {
      "image/png": "[encoded data removed]",
      "text/plain": [
       "<Figure size 864x576 with 2 Axes>"
      ]
     },
     "metadata": {
      "needs_background": "light"
     },
     "output_type": "display_data"
    }
   ],
   "source": [
    "plt.figure(figsize=(12, 8))\n",
    "sns.heatmap(corr, \n",
    "            cmap='summer',\n",
    "            annot=True, \n",
    "            annot_kws = {'size' : 15},\n",
    "            square =True,\n",
    "            fmt= '.2f',\n",
    "            yticklabels = columns,\n",
    "            xticklabels = columns\n",
    "           )\n",
    "plt.tight_layout()\n",
    "plt.show()"
   ]
  },
  {
   "cell_type": "markdown",
   "id": "0d98c8bf",
   "metadata": {},
   "source": [
    "    - beer_servings 와 total_litres_of_pure_alcohol 변수가 상관관계가 매우 높음 (0.84)\n",
    "    - 대체적으로 양의 상관관계가 있으며, spirit_servings와 wine_servings 간에는 관계가 거의 없는 것으로 보임"
   ]
  },
  {
   "cell_type": "code",
   "execution_count": 22,
   "id": "5b14e70c",
   "metadata": {
    "ExecuteTime": {
     "end_time": "2022-07-21T11:58:07.403093Z",
     "start_time": "2022-07-21T11:58:06.112279Z"
    }
   },
   "outputs": [
    {
     "data": {
      "text/plain": [
       "<Figure size 864x576 with 0 Axes>"
      ]
     },
     "metadata": {},
     "output_type": "display_data"
    },
    {
     "data": {
      "image/png": "[encoded data removed]",
      "text/plain": [
       "<Figure size 720x720 with 20 Axes>"
      ]
     },
     "metadata": {
      "needs_background": "light"
     },
     "output_type": "display_data"
    }
   ],
   "source": [
    "plt.figure(figsize=(12, 8))\n",
    "sns.pairplot(data[columns], height=2.5)\n",
    "plt.tight_layout()\n",
    "plt.show()"
   ]
  },
  {
   "cell_type": "markdown",
   "id": "258cb2d8",
   "metadata": {},
   "source": [
    "## 데이터 결측 처리"
   ]
  },
  {
   "cell_type": "code",
   "execution_count": 23,
   "id": "4c9ff626",
   "metadata": {
    "ExecuteTime": {
     "end_time": "2022-07-21T11:58:07.429783Z",
     "start_time": "2022-07-21T11:58:07.426924Z"
    }
   },
   "outputs": [
    {
     "name": "stdout",
     "output_type": "stream",
     "text": [
      "결측치 개수 : 23\n",
      "치환 후 결측치 개수 : 0\n"
     ]
    }
   ],
   "source": [
    "## continents 23개의 결측치 있음\n",
    "\n",
    "print(f'결측치 개수 : {data[\"continent\"].isna().sum()}')\n",
    "\n",
    "data['continent'] = data['continent'].fillna('OT') ## 기타 등등으로 치환\n",
    "\n",
    "print(f'치환 후 결측치 개수 : {data[\"continent\"].isna().sum()}')"
   ]
  },
  {
   "cell_type": "markdown",
   "id": "85725ced",
   "metadata": {},
   "source": [
    "## 파이 차트를 통해 대륙별 비율 확인"
   ]
  },
  {
   "cell_type": "code",
   "execution_count": 25,
   "id": "69ec82a9",
   "metadata": {
    "ExecuteTime": {
     "end_time": "2022-07-21T11:59:20.596769Z",
     "start_time": "2022-07-21T11:59:20.588912Z"
    }
   },
   "outputs": [
    {
     "data": {
      "text/plain": [
       "0      AS\n",
       "1      EU\n",
       "2      AF\n",
       "3      EU\n",
       "4      AF\n",
       "       ..\n",
       "188    SA\n",
       "189    AS\n",
       "190    AS\n",
       "191    AF\n",
       "192    AF\n",
       "Name: continent, Length: 193, dtype: object"
      ]
     },
     "execution_count": 25,
     "metadata": {},
     "output_type": "execute_result"
    }
   ],
   "source": [
    "data['continent']"
   ]
  },
  {
   "cell_type": "code",
   "execution_count": 33,
   "id": "765c19a1",
   "metadata": {
    "ExecuteTime": {
     "end_time": "2022-07-21T12:02:00.437687Z",
     "start_time": "2022-07-21T12:02:00.343208Z"
    }
   },
   "outputs": [
    {
     "data": {
      "image/png": "[encoded data removed]",
      "text/plain": [
       "<Figure size 432x288 with 1 Axes>"
      ]
     },
     "metadata": {},
     "output_type": "display_data"
    }
   ],
   "source": [
    "plt.pie(data['continent'].value_counts(),\n",
    "       labels= data['continent'].value_counts().index,\n",
    "       explode = (0, 0, 0, 0.25, 0, 0),\n",
    "       autopct = '%.2f%%')\n",
    "plt.title('대륙별 비율 확인')\n",
    "plt.show()"
   ]
  },
  {
   "cell_type": "markdown",
   "id": "5144fb6c",
   "metadata": {},
   "source": [
    "## 국가별 음주 데이터 분석"
   ]
  },
  {
   "cell_type": "markdown",
   "id": "c0e9280a",
   "metadata": {},
   "source": [
    "### 대륙별 spirit_servings의 통계적 정보"
   ]
  },
  {
   "cell_type": "code",
   "execution_count": 52,
   "id": "ce68031b",
   "metadata": {
    "ExecuteTime": {
     "end_time": "2022-07-21T12:18:23.202367Z",
     "start_time": "2022-07-21T12:18:23.183419Z"
    }
   },
   "outputs": [
    {
     "data": {
      "text/html": [
       "<div>\n",
       "<style scoped>\n",
       "    .dataframe tbody tr th:only-of-type {\n",
       "        vertical-align: middle;\n",
       "    }\n",
       "\n",
       "    .dataframe tbody tr th {\n",
       "        vertical-align: top;\n",
       "    }\n",
       "\n",
       "    .dataframe thead th {\n",
       "        text-align: right;\n",
       "    }\n",
       "</style>\n",
       "<table border=\"1\" class=\"dataframe\">\n",
       "  <thead>\n",
       "    <tr style=\"text-align: right;\">\n",
       "      <th>continent</th>\n",
       "      <th>AF</th>\n",
       "      <th>AS</th>\n",
       "      <th>EU</th>\n",
       "      <th>OC</th>\n",
       "      <th>OT</th>\n",
       "      <th>SA</th>\n",
       "    </tr>\n",
       "  </thead>\n",
       "  <tbody>\n",
       "    <tr>\n",
       "      <th>mean</th>\n",
       "      <td>16.339623</td>\n",
       "      <td>60.840909</td>\n",
       "      <td>132.555556</td>\n",
       "      <td>58.4375</td>\n",
       "      <td>165.73913</td>\n",
       "      <td>114.75</td>\n",
       "    </tr>\n",
       "    <tr>\n",
       "      <th>min</th>\n",
       "      <td>0.000000</td>\n",
       "      <td>0.000000</td>\n",
       "      <td>0.000000</td>\n",
       "      <td>0.0000</td>\n",
       "      <td>68.00000</td>\n",
       "      <td>25.00</td>\n",
       "    </tr>\n",
       "    <tr>\n",
       "      <th>max</th>\n",
       "      <td>152.000000</td>\n",
       "      <td>326.000000</td>\n",
       "      <td>373.000000</td>\n",
       "      <td>254.0000</td>\n",
       "      <td>438.00000</td>\n",
       "      <td>302.00</td>\n",
       "    </tr>\n",
       "    <tr>\n",
       "      <th>sum</th>\n",
       "      <td>866.000000</td>\n",
       "      <td>2677.000000</td>\n",
       "      <td>5965.000000</td>\n",
       "      <td>935.0000</td>\n",
       "      <td>3812.00000</td>\n",
       "      <td>1377.00</td>\n",
       "    </tr>\n",
       "  </tbody>\n",
       "</table>\n",
       "</div>"
      ],
      "text/plain": [
       "continent          AF           AS           EU        OC          OT       SA\n",
       "mean        16.339623    60.840909   132.555556   58.4375   165.73913   114.75\n",
       "min          0.000000     0.000000     0.000000    0.0000    68.00000    25.00\n",
       "max        152.000000   326.000000   373.000000  254.0000   438.00000   302.00\n",
       "sum        866.000000  2677.000000  5965.000000  935.0000  3812.00000  1377.00"
      ]
     },
     "metadata": {},
     "output_type": "display_data"
    }
   ],
   "source": [
    "result1 = data.groupby('continent')['spirit_servings'].agg(['mean', 'min', 'max', 'sum']).T\n",
    "display(result1)"
   ]
  },
  {
   "cell_type": "code",
   "execution_count": 60,
   "id": "bd7e37c6",
   "metadata": {
    "ExecuteTime": {
     "end_time": "2022-07-21T12:23:20.731385Z",
     "start_time": "2022-07-21T12:23:20.601396Z"
    }
   },
   "outputs": [
    {
     "data": {
      "image/png": "[encoded data removed]",
      "text/plain": [
       "<Figure size 432x288 with 1 Axes>"
      ]
     },
     "metadata": {
      "needs_background": "light"
     },
     "output_type": "display_data"
    }
   ],
   "source": [
    "n_groups = len(result1.columns)\n",
    "\n",
    "means = result1.loc['mean', :]\n",
    "maxs = result1.loc['max', :]\n",
    "mins = result1.loc['min', :]\n",
    "sums = result1.loc['sum', :]\n",
    "\n",
    "index = np.arange(n_groups)\n",
    "bar_width = 0.1\n",
    "\n",
    "rects1 = plt.bar(index, means, bar_width, color='red', label='Mean')\n",
    "rects2 = plt.bar(index + bar_width, maxs, bar_width, color='blue', label='Max')\n",
    "rects3 = plt.bar(index + bar_width * 2, mins, bar_width, color='green', label='Min')\n",
    "rects4 = plt.bar(index + bar_width * 3, sums, bar_width, color='orange', label='Sum')\n",
    "\n",
    "plt.xticks(index, result1.columns.tolist())\n",
    "plt.legend()\n",
    "plt.show()"
   ]
  },
  {
   "cell_type": "markdown",
   "id": "6d801ed2",
   "metadata": {},
   "source": [
    "### 전체 평균보다 많은 알코올을 섭취하는 대륙은 어디일까?"
   ]
  },
  {
   "cell_type": "code",
   "execution_count": 39,
   "id": "8e0dc087",
   "metadata": {
    "ExecuteTime": {
     "end_time": "2022-07-21T12:13:50.971017Z",
     "start_time": "2022-07-21T12:13:50.961898Z"
    }
   },
   "outputs": [
    {
     "name": "stdout",
     "output_type": "stream",
     "text": [
      "continent\n",
      "EU    8.617778\n",
      "OT    5.995652\n",
      "SA    6.308333\n",
      "Name: total_litres_of_pure_alcohol, dtype: float64\n"
     ]
    }
   ],
   "source": [
    "total_mean = data['total_litres_of_pure_alcohol'].mean()\n",
    "\n",
    "continents_mean = data.groupby('continent').mean()['total_litres_of_pure_alcohol']\n",
    "print(continents_mean[continents_mean > total_mean])"
   ]
  },
  {
   "cell_type": "code",
   "execution_count": 62,
   "id": "77b847e4",
   "metadata": {
    "ExecuteTime": {
     "end_time": "2022-07-21T12:32:00.503816Z",
     "start_time": "2022-07-21T12:32:00.497111Z"
    }
   },
   "outputs": [
    {
     "data": {
      "text/plain": [
       "continent\n",
       "AF    3.007547\n",
       "AS    2.170455\n",
       "EU    8.617778\n",
       "OC    3.381250\n",
       "OT    5.995652\n",
       "SA    6.308333\n",
       "Name: total_litres_of_pure_alcohol, dtype: float64"
      ]
     },
     "execution_count": 62,
     "metadata": {},
     "output_type": "execute_result"
    }
   ],
   "source": [
    "continents_mean"
   ]
  },
  {
   "cell_type": "code",
   "execution_count": 63,
   "id": "84a25d85",
   "metadata": {
    "ExecuteTime": {
     "end_time": "2022-07-21T12:34:39.196529Z",
     "start_time": "2022-07-21T12:34:39.090443Z"
    }
   },
   "outputs": [
    {
     "data": {
      "image/png": "[encoded data removed]",
      "text/plain": [
       "<Figure size 432x288 with 1 Axes>"
      ]
     },
     "metadata": {
      "needs_background": "light"
     },
     "output_type": "display_data"
    }
   ],
   "source": [
    "continents = continents_mean.index.tolist()\n",
    "continents.append('mean')\n",
    "\n",
    "x_pos = np.arange(len(continents))\n",
    "alcohol = continents_mean.tolist()\n",
    "alcohol.append(total_mean)\n",
    "\n",
    "bar_list = plt.bar(x_pos, alcohol, align='center', alpha=0.5)\n",
    "bar_list[len(continents)-1].set_color('r')\n",
    "\n",
    "plt.plot([0., 6], [total_mean, total_mean], 'k--')\n",
    "plt.xticks(x_pos, continents)\n",
    "plt.ylabel('total_litres_of_pure_alcohol')\n",
    "plt.title('국가별 순수 알코올 섭취량과 전체 평균 알코올 섭취량')\n",
    "plt.show()"
   ]
  },
  {
   "cell_type": "markdown",
   "id": "6860814c",
   "metadata": {},
   "source": [
    "### 평균 beer_servings가 가장 높은 대륙은 어디일까?"
   ]
  },
  {
   "cell_type": "code",
   "execution_count": 64,
   "id": "a43dca07",
   "metadata": {
    "ExecuteTime": {
     "end_time": "2022-07-21T12:38:53.426862Z",
     "start_time": "2022-07-21T12:38:53.417859Z"
    }
   },
   "outputs": [
    {
     "name": "stdout",
     "output_type": "stream",
     "text": [
      "beer_servings가 가장 높은 대륙 : EU\n"
     ]
    }
   ],
   "source": [
    "result = data.groupby('continent').mean()['beer_servings'].sort_values(ascending=False).idxmax()\n",
    "\n",
    "print(f\"beer_servings가 가장 높은 대륙 : {result}\")"
   ]
  },
  {
   "cell_type": "code",
   "execution_count": 82,
   "id": "8b20c37a",
   "metadata": {
    "ExecuteTime": {
     "end_time": "2022-07-21T12:45:15.072188Z",
     "start_time": "2022-07-21T12:45:15.066299Z"
    }
   },
   "outputs": [
    {
     "data": {
      "text/plain": [
       "Index(['AF', 'AS', 'EU', 'OC', 'OT', 'SA'], dtype='object', name='continent')"
      ]
     },
     "execution_count": 82,
     "metadata": {},
     "output_type": "execute_result"
    }
   ],
   "source": [
    "beer_group.index"
   ]
  },
  {
   "cell_type": "code",
   "execution_count": 87,
   "id": "37b592b5",
   "metadata": {
    "ExecuteTime": {
     "end_time": "2022-07-21T12:46:47.087520Z",
     "start_time": "2022-07-21T12:46:46.989070Z"
    }
   },
   "outputs": [
    {
     "data": {
      "image/png": "[encoded data removed]",
      "text/plain": [
       "<Figure size 432x288 with 1 Axes>"
      ]
     },
     "metadata": {
      "needs_background": "light"
     },
     "output_type": "display_data"
    }
   ],
   "source": [
    "beer_group = data.groupby('continent')['beer_servings'].sum()\n",
    "\n",
    "continents = beer_group.index.tolist()\n",
    "beers = beer_group.tolist()\n",
    "\n",
    "x_pos = np.arange(len(continents))\n",
    "\n",
    "bar_list = plt.bar(continents, beers, align='center', alpha=0.5)\n",
    "bar_list[continents.index(beer_group.idxmax())].set_color('orange')\n",
    "plt.xticks = continents\n",
    "plt.title('대륙별 beer_servings')\n",
    "plt.grid(False)\n",
    "plt.show()"
   ]
  },
  {
   "cell_type": "markdown",
   "id": "7c9bf78a",
   "metadata": {},
   "source": [
    "# 통계적 분석"
   ]
  },
  {
   "cell_type": "markdown",
   "id": "2a293287",
   "metadata": {},
   "source": [
    "    - t-test \n",
    "\n",
    "    => t-test란 두 딥단 간 평균의 차이에 대한 검정 방법으로, 모집단의 평균 등과 가이 실제 정보를 모를 떄 현재의 데이터만으로 두 집단의 차이에 대해 검정할 수 있는 방법. 단 t-test는 검정 대상인 두 집단의 데이터 개수가 비슷하면서 데이터가 정규분포를 보이는 경우 신뢰도가 높은 검정 방식"
   ]
  },
  {
   "cell_type": "markdown",
   "id": "0b5668be",
   "metadata": {},
   "source": [
    "## 아프리카와 유럽 간의 맥주 소비량 차이 검정하기 (t-test)"
   ]
  },
  {
   "cell_type": "code",
   "execution_count": 88,
   "id": "a5e0df3a",
   "metadata": {
    "ExecuteTime": {
     "end_time": "2022-07-21T13:01:57.505626Z",
     "start_time": "2022-07-21T13:01:57.489811Z"
    }
   },
   "outputs": [
    {
     "name": "stdout",
     "output_type": "stream",
     "text": [
      "t-통계량 and p-value (분산 같을떄) :  Ttest_indResult(statistic=-7.267986335644365, pvalue=9.719556422442453e-11)\n",
      "t-통계량 and p-value (분산 다를떄) :  Ttest_indResult(statistic=-7.143520192189803, pvalue=2.9837787864303205e-10)\n"
     ]
    }
   ],
   "source": [
    "africa = data.loc[data.continent == 'AF']\n",
    "eu = data.loc[data.continent == 'EU']\n",
    "\n",
    "from scipy import stats\n",
    "\n",
    "result_var_equal = stats.ttest_ind(africa['beer_servings'], eu['beer_servings'], equal_var=True) ## 분산이 같을 떄\n",
    "result_var_not_equal = stats.ttest_ind(africa['beer_servings'], eu['beer_servings'], equal_var=False) ## 분산이 다를 떄\n",
    "\n",
    "print('t-통계량 and p-value (분산 같을떄) : ', result_var_equal)\n",
    "print('t-통계량 and p-value (분산 다를떄) : ', result_var_not_equal)"
   ]
  },
  {
   "cell_type": "markdown",
   "id": "9aee9810",
   "metadata": {},
   "source": [
    "    - p-value 둘다 유의수준보다 낮으므로 귀무가설 기각\n",
    "    - 아프리카와 유럽의 맥주 소비량의 평균은 다르다."
   ]
  },
  {
   "cell_type": "markdown",
   "id": "7771ac5c",
   "metadata": {
    "ExecuteTime": {
     "end_time": "2022-07-21T13:03:48.769434Z",
     "start_time": "2022-07-21T13:03:48.752355Z"
    }
   },
   "source": [
    "# 대한민국은 얼마나 술을 독하게 마시는 나라일까?"
   ]
  },
  {
   "cell_type": "code",
   "execution_count": 90,
   "id": "c73114c7",
   "metadata": {
    "ExecuteTime": {
     "end_time": "2022-07-21T13:04:56.235025Z",
     "start_time": "2022-07-21T13:04:56.229512Z"
    }
   },
   "outputs": [
    {
     "data": {
      "text/plain": [
       "Index(['country', 'beer_servings', 'spirit_servings', 'wine_servings',\n",
       "       'total_litres_of_pure_alcohol', 'continent'],\n",
       "      dtype='object')"
      ]
     },
     "execution_count": 90,
     "metadata": {},
     "output_type": "execute_result"
    }
   ],
   "source": [
    "data.columns"
   ]
  },
  {
   "cell_type": "code",
   "execution_count": 92,
   "id": "cb5327fd",
   "metadata": {
    "ExecuteTime": {
     "end_time": "2022-07-21T13:06:46.025833Z",
     "start_time": "2022-07-21T13:06:46.008604Z"
    }
   },
   "outputs": [
    {
     "data": {
      "text/plain": [
       "country\n",
       "Gambia          0.266667\n",
       "Sierra Leone    0.223333\n",
       "Nigeria         0.185714\n",
       "Uganda          0.153704\n",
       "Rwanda          0.151111\n",
       "                  ...   \n",
       "Monaco               NaN\n",
       "North Korea          NaN\n",
       "Pakistan             NaN\n",
       "San Marino           NaN\n",
       "Somalia              NaN\n",
       "Name: alcohol_rate, Length: 193, dtype: float64"
      ]
     },
     "execution_count": 92,
     "metadata": {},
     "output_type": "execute_result"
    }
   ],
   "source": [
    "# 전체 소비량\n",
    "data['total_servings'] = data['beer_servings'] + data['wine_servings'] + data['spirit_servings']\n",
    "\n",
    "# 전체 소리뱡 대비 알코올 비율\n",
    "data['alcohol_rate'] = data['total_litres_of_pure_alcohol'] / data['total_servings']\n",
    "\n",
    "country_ranking = data.groupby('country').alcohol_rate.mean().sort_values(ascending=False)\n",
    "country_ranking"
   ]
  },
  {
   "cell_type": "code",
   "execution_count": 132,
   "id": "c6876de5",
   "metadata": {
    "ExecuteTime": {
     "end_time": "2022-07-21T13:20:47.524372Z",
     "start_time": "2022-07-21T13:20:47.259980Z"
    }
   },
   "outputs": [
    {
     "data": {
      "image/png": "[encoded data removed]",
      "text/plain": [
       "<Figure size 1440x864 with 1 Axes>"
      ]
     },
     "metadata": {
      "needs_background": "light"
     },
     "output_type": "display_data"
    }
   ],
   "source": [
    "country_list = country_ranking.index.tolist()\n",
    "x_pos = np.arange(len(country_list))\n",
    "rank = country_ranking.tolist()\n",
    "\n",
    "plt.figure(figsize=(20, 12))\n",
    "bar_list = plt.bar(x_pos, rank)\n",
    "bar_list[country_list.index('South Korea')].set_color('red')\n",
    "plt.ylabel('알코올 비율')\n",
    "plt.title('국가별 알코올 섭취 시각화')\n",
    "plt.axis([0, 200, 0, 0.3])\n",
    "\n",
    "korea_rank = country_list.index('South Korea')\n",
    "korea_alc_rate = country_ranking[country_ranking.index == 'South Korea'].values[0]\n",
    "\n",
    "plt.annotate(text = '대한 민국 : ' + str(korea_rank), \n",
    "            xy = (korea_rank, korea_alc_rate),\n",
    "            xytext = (korea_rank + 10, korea_alc_rate + 0.05),\n",
    "            arrowprops={'facecolor' : 'red','shrink':0.05})\n",
    "\n",
    "plt.show()"
   ]
  },
  {
   "cell_type": "code",
   "execution_count": 121,
   "id": "19dd4956",
   "metadata": {
    "ExecuteTime": {
     "end_time": "2022-07-21T13:15:30.319981Z",
     "start_time": "2022-07-21T13:15:30.311634Z"
    }
   },
   "outputs": [
    {
     "data": {
      "text/plain": [
       "country\n",
       "Gambia          0.266667\n",
       "Sierra Leone    0.223333\n",
       "Nigeria         0.185714\n",
       "Uganda          0.153704\n",
       "Rwanda          0.151111\n",
       "                  ...   \n",
       "Monaco               NaN\n",
       "North Korea          NaN\n",
       "Pakistan             NaN\n",
       "San Marino           NaN\n",
       "Somalia              NaN\n",
       "Name: alcohol_rate, Length: 193, dtype: float64"
      ]
     },
     "execution_count": 121,
     "metadata": {},
     "output_type": "execute_result"
    }
   ],
   "source": [
    "country_ranking"
   ]
  },
  {
   "cell_type": "markdown",
   "id": "7cdc83e5",
   "metadata": {},
   "source": [
    "# 연습문제"
   ]
  },
  {
   "cell_type": "code",
   "execution_count": 133,
   "id": "7e9246e2",
   "metadata": {
    "ExecuteTime": {
     "end_time": "2022-07-21T13:23:44.308807Z",
     "start_time": "2022-07-21T13:23:44.295311Z"
    }
   },
   "outputs": [],
   "source": [
    "import pandas as pd \n",
    "import numpy as np\n",
    "import matplotlib.pyplot as plt\n",
    "%matplotlib inline\n",
    "\n",
    "paths = './data/drinks.csv'\n",
    "\n",
    "data = pd.read_csv(paths)\n",
    "data['continent'] = data.continent.fillna('OT')"
   ]
  },
  {
   "cell_type": "markdown",
   "id": "6e7a7b36",
   "metadata": {},
   "source": [
    "## 대륙별 평균 wine_servings "
   ]
  },
  {
   "cell_type": "code",
   "execution_count": 136,
   "id": "811bb73a",
   "metadata": {
    "ExecuteTime": {
     "end_time": "2022-07-21T13:24:27.664366Z",
     "start_time": "2022-07-21T13:24:27.655361Z"
    }
   },
   "outputs": [
    {
     "data": {
      "text/plain": [
       "continent\n",
       "EU    142.222222\n",
       "SA     62.416667\n",
       "OC     35.625000\n",
       "OT     24.521739\n",
       "AF     16.264151\n",
       "AS      9.068182\n",
       "Name: wine_servings, dtype: float64"
      ]
     },
     "execution_count": 136,
     "metadata": {},
     "output_type": "execute_result"
    }
   ],
   "source": [
    "data.groupby('continent')['wine_servings'].mean().sort_values(ascending=False)"
   ]
  },
  {
   "cell_type": "markdown",
   "id": "ab0233e6",
   "metadata": {},
   "source": [
    "## 국가별 모든 servings의 합을 계산한 total_servings (파생변수) 생성"
   ]
  },
  {
   "cell_type": "code",
   "execution_count": 157,
   "id": "70e8ed1a",
   "metadata": {
    "ExecuteTime": {
     "end_time": "2022-07-21T13:30:56.575657Z",
     "start_time": "2022-07-21T13:30:56.560116Z"
    }
   },
   "outputs": [
    {
     "data": {
      "text/html": [
       "<div>\n",
       "<style scoped>\n",
       "    .dataframe tbody tr th:only-of-type {\n",
       "        vertical-align: middle;\n",
       "    }\n",
       "\n",
       "    .dataframe tbody tr th {\n",
       "        vertical-align: top;\n",
       "    }\n",
       "\n",
       "    .dataframe thead th {\n",
       "        text-align: right;\n",
       "    }\n",
       "</style>\n",
       "<table border=\"1\" class=\"dataframe\">\n",
       "  <thead>\n",
       "    <tr style=\"text-align: right;\">\n",
       "      <th></th>\n",
       "      <th>country</th>\n",
       "      <th>beer_servings</th>\n",
       "      <th>spirit_servings</th>\n",
       "      <th>wine_servings</th>\n",
       "      <th>total_litres_of_pure_alcohol</th>\n",
       "      <th>continent</th>\n",
       "      <th>total_servings</th>\n",
       "    </tr>\n",
       "  </thead>\n",
       "  <tbody>\n",
       "    <tr>\n",
       "      <th>0</th>\n",
       "      <td>Afghanistan</td>\n",
       "      <td>0</td>\n",
       "      <td>0</td>\n",
       "      <td>0</td>\n",
       "      <td>0.0</td>\n",
       "      <td>AS</td>\n",
       "      <td>0</td>\n",
       "    </tr>\n",
       "    <tr>\n",
       "      <th>1</th>\n",
       "      <td>Albania</td>\n",
       "      <td>89</td>\n",
       "      <td>132</td>\n",
       "      <td>54</td>\n",
       "      <td>4.9</td>\n",
       "      <td>EU</td>\n",
       "      <td>275</td>\n",
       "    </tr>\n",
       "    <tr>\n",
       "      <th>2</th>\n",
       "      <td>Algeria</td>\n",
       "      <td>25</td>\n",
       "      <td>0</td>\n",
       "      <td>14</td>\n",
       "      <td>0.7</td>\n",
       "      <td>AF</td>\n",
       "      <td>39</td>\n",
       "    </tr>\n",
       "    <tr>\n",
       "      <th>3</th>\n",
       "      <td>Andorra</td>\n",
       "      <td>245</td>\n",
       "      <td>138</td>\n",
       "      <td>312</td>\n",
       "      <td>12.4</td>\n",
       "      <td>EU</td>\n",
       "      <td>695</td>\n",
       "    </tr>\n",
       "    <tr>\n",
       "      <th>4</th>\n",
       "      <td>Angola</td>\n",
       "      <td>217</td>\n",
       "      <td>57</td>\n",
       "      <td>45</td>\n",
       "      <td>5.9</td>\n",
       "      <td>AF</td>\n",
       "      <td>319</td>\n",
       "    </tr>\n",
       "  </tbody>\n",
       "</table>\n",
       "</div>"
      ],
      "text/plain": [
       "       country  beer_servings  spirit_servings  wine_servings  \\\n",
       "0  Afghanistan              0                0              0   \n",
       "1      Albania             89              132             54   \n",
       "2      Algeria             25                0             14   \n",
       "3      Andorra            245              138            312   \n",
       "4       Angola            217               57             45   \n",
       "\n",
       "   total_litres_of_pure_alcohol continent  total_servings  \n",
       "0                           0.0        AS               0  \n",
       "1                           4.9        EU             275  \n",
       "2                           0.7        AF              39  \n",
       "3                          12.4        EU             695  \n",
       "4                           5.9        AF             319  "
      ]
     },
     "execution_count": 157,
     "metadata": {},
     "output_type": "execute_result"
    }
   ],
   "source": [
    "data['total_servings'] = data['wine_servings'] + data['beer_servings'] + data['spirit_servings']\n",
    "data.head()"
   ]
  },
  {
   "cell_type": "markdown",
   "id": "a0cec048",
   "metadata": {},
   "source": [
    "## 전체 평균보다 적은 알코올을 마시는 대륙 중, spirit를 가장 많이 마시는 국가"
   ]
  },
  {
   "cell_type": "code",
   "execution_count": 187,
   "id": "34dd82a7",
   "metadata": {
    "ExecuteTime": {
     "end_time": "2022-07-21T13:42:40.070145Z",
     "start_time": "2022-07-21T13:42:40.053276Z"
    }
   },
   "outputs": [
    {
     "data": {
      "text/plain": [
       "country            Zimbabwe\n",
       "spirit_servings         326\n",
       "dtype: object"
      ]
     },
     "execution_count": 187,
     "metadata": {},
     "output_type": "execute_result"
    }
   ],
   "source": [
    "cond = data.groupby('continent').mean()['total_litres_of_pure_alcohol'] <= data['total_litres_of_pure_alcohol'].mean()\n",
    "\n",
    "continent_list = ['AF', 'AS', 'OC']\n",
    "\n",
    "data.loc[data['continent'].isin(continent_list), ['country', 'spirit_servings']].max()"
   ]
  },
  {
   "cell_type": "markdown",
   "id": "771d53c6",
   "metadata": {},
   "source": [
    "## 술 소비량 대비 알코올 비율"
   ]
  },
  {
   "cell_type": "code",
   "execution_count": 171,
   "id": "9f09788d",
   "metadata": {
    "ExecuteTime": {
     "end_time": "2022-07-21T13:36:13.109178Z",
     "start_time": "2022-07-21T13:36:13.104595Z"
    }
   },
   "outputs": [],
   "source": [
    "alcohol_rate = data['total_litres_of_pure_alcohol'] / data['total_servings']\n",
    "data['alcohol_rate'] = alcohol_rate"
   ]
  },
  {
   "cell_type": "markdown",
   "id": "f3959d14",
   "metadata": {},
   "source": [
    "## 대륙별로 술 소비량 대비 알코올 비율을 계산"
   ]
  },
  {
   "cell_type": "code",
   "execution_count": 188,
   "id": "aa907ffc",
   "metadata": {
    "ExecuteTime": {
     "end_time": "2022-07-21T13:44:43.399197Z",
     "start_time": "2022-07-21T13:44:43.389005Z"
    }
   },
   "outputs": [
    {
     "data": {
      "text/plain": [
       "continent\n",
       "AF    0.052725\n",
       "AS    0.019454\n",
       "EU    0.018342\n",
       "OC    0.018022\n",
       "OT    0.017854\n",
       "SA    0.017868\n",
       "Name: alcohol_rate, dtype: float64"
      ]
     },
     "execution_count": 188,
     "metadata": {},
     "output_type": "execute_result"
    }
   ],
   "source": [
    "data.groupby('continent').mean()['alcohol_rate']"
   ]
  },
  {
   "cell_type": "code",
   "execution_count": null,
   "id": "e7491fa3",
   "metadata": {},
   "outputs": [],
   "source": []
  }
 ],
 "metadata": {
  "hide_input": false,
  "kernelspec": {
   "display_name": "Python 3",
   "language": "python",
   "name": "python3"
  },
  "language_info": {
   "codemirror_mode": {
    "name": "ipython",
    "version": 3
   },
   "file_extension": ".py",
   "mimetype": "text/x-python",
   "name": "python",
   "nbconvert_exporter": "python",
   "pygments_lexer": "ipython3",
   "version": "3.8.8"
  },
  "toc": {
   "base_numbering": 1,
   "nav_menu": {},
   "number_sections": true,
   "sideBar": true,
   "skip_h1_title": false,
   "title_cell": "Table of Contents",
   "title_sidebar": "Contents",
   "toc_cell": false,
   "toc_position": {},
   "toc_section_display": true,
   "toc_window_display": false
  },
  "varInspector": {
   "cols": {
    "lenName": 16,
    "lenType": 16,
    "lenVar": 40
   },
   "kernels_config": {
    "python": {
     "delete_cmd_postfix": "",
     "delete_cmd_prefix": "del ",
     "library": "var_list.py",
     "varRefreshCmd": "print(var_dic_list())"
    },
    "r": {
     "delete_cmd_postfix": ") ",
     "delete_cmd_prefix": "rm(",
     "library": "var_list.r",
     "varRefreshCmd": "cat(var_dic_list()) "
    }
   },
   "types_to_exclude": [
    "module",
    "function",
    "builtin_function_or_method",
    "instance",
    "_Feature"
   ],
   "window_display": false
  }
 },
 "nbformat": 4,
 "nbformat_minor": 5
}
